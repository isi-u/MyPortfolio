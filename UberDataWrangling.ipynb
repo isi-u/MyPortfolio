{
 "cells": [
  {
   "cell_type": "code",
   "execution_count": 1,
   "id": "5d913969",
   "metadata": {},
   "outputs": [],
   "source": [
    "#The following libraries are required to run this notebook\n",
    "#Importing the\n",
    "\n",
    "import numpy as np\n",
    "import pandas as pd\n",
    "import seaborn as sns\n",
    "import matplotlib.pyplot as plt\n",
    "%matplotlib inline\n",
    "sns.set(color_codes=True)\n"
   ]
  },
  {
   "cell_type": "code",
   "execution_count": 2,
   "id": "59fc2bfa",
   "metadata": {},
   "outputs": [
    {
     "data": {
      "text/html": [
       "<div>\n",
       "<style scoped>\n",
       "    .dataframe tbody tr th:only-of-type {\n",
       "        vertical-align: middle;\n",
       "    }\n",
       "\n",
       "    .dataframe tbody tr th {\n",
       "        vertical-align: top;\n",
       "    }\n",
       "\n",
       "    .dataframe thead th {\n",
       "        text-align: right;\n",
       "    }\n",
       "</style>\n",
       "<table border=\"1\" class=\"dataframe\">\n",
       "  <thead>\n",
       "    <tr style=\"text-align: right;\">\n",
       "      <th></th>\n",
       "      <th>Date/Time</th>\n",
       "      <th>Lat</th>\n",
       "      <th>Lon</th>\n",
       "      <th>Base</th>\n",
       "    </tr>\n",
       "  </thead>\n",
       "  <tbody>\n",
       "    <tr>\n",
       "      <th>0</th>\n",
       "      <td>7/1/2014 0:03:00</td>\n",
       "      <td>40.7586</td>\n",
       "      <td>-73.9706</td>\n",
       "      <td>B02512</td>\n",
       "    </tr>\n",
       "    <tr>\n",
       "      <th>1</th>\n",
       "      <td>7/1/2014 0:05:00</td>\n",
       "      <td>40.7605</td>\n",
       "      <td>-73.9994</td>\n",
       "      <td>B02512</td>\n",
       "    </tr>\n",
       "    <tr>\n",
       "      <th>2</th>\n",
       "      <td>7/1/2014 0:06:00</td>\n",
       "      <td>40.7320</td>\n",
       "      <td>-73.9999</td>\n",
       "      <td>B02512</td>\n",
       "    </tr>\n",
       "    <tr>\n",
       "      <th>3</th>\n",
       "      <td>7/1/2014 0:09:00</td>\n",
       "      <td>40.7635</td>\n",
       "      <td>-73.9793</td>\n",
       "      <td>B02512</td>\n",
       "    </tr>\n",
       "    <tr>\n",
       "      <th>4</th>\n",
       "      <td>7/1/2014 0:20:00</td>\n",
       "      <td>40.7204</td>\n",
       "      <td>-74.0047</td>\n",
       "      <td>B02512</td>\n",
       "    </tr>\n",
       "    <tr>\n",
       "      <th>5</th>\n",
       "      <td>7/1/2014 0:35:00</td>\n",
       "      <td>40.7487</td>\n",
       "      <td>-73.9869</td>\n",
       "      <td>B02512</td>\n",
       "    </tr>\n",
       "    <tr>\n",
       "      <th>6</th>\n",
       "      <td>7/1/2014 0:57:00</td>\n",
       "      <td>40.7444</td>\n",
       "      <td>-73.9961</td>\n",
       "      <td>B02512</td>\n",
       "    </tr>\n",
       "    <tr>\n",
       "      <th>7</th>\n",
       "      <td>7/1/2014 0:58:00</td>\n",
       "      <td>40.7132</td>\n",
       "      <td>-73.9492</td>\n",
       "      <td>B02512</td>\n",
       "    </tr>\n",
       "    <tr>\n",
       "      <th>8</th>\n",
       "      <td>7/1/2014 1:04:00</td>\n",
       "      <td>40.7590</td>\n",
       "      <td>-73.9730</td>\n",
       "      <td>B02512</td>\n",
       "    </tr>\n",
       "    <tr>\n",
       "      <th>9</th>\n",
       "      <td>7/1/2014 1:08:00</td>\n",
       "      <td>40.7601</td>\n",
       "      <td>-73.9823</td>\n",
       "      <td>B02512</td>\n",
       "    </tr>\n",
       "  </tbody>\n",
       "</table>\n",
       "</div>"
      ],
      "text/plain": [
       "          Date/Time      Lat      Lon    Base\n",
       "0  7/1/2014 0:03:00  40.7586 -73.9706  B02512\n",
       "1  7/1/2014 0:05:00  40.7605 -73.9994  B02512\n",
       "2  7/1/2014 0:06:00  40.7320 -73.9999  B02512\n",
       "3  7/1/2014 0:09:00  40.7635 -73.9793  B02512\n",
       "4  7/1/2014 0:20:00  40.7204 -74.0047  B02512\n",
       "5  7/1/2014 0:35:00  40.7487 -73.9869  B02512\n",
       "6  7/1/2014 0:57:00  40.7444 -73.9961  B02512\n",
       "7  7/1/2014 0:58:00  40.7132 -73.9492  B02512\n",
       "8  7/1/2014 1:04:00  40.7590 -73.9730  B02512\n",
       "9  7/1/2014 1:08:00  40.7601 -73.9823  B02512"
      ]
     },
     "execution_count": 2,
     "metadata": {},
     "output_type": "execute_result"
    }
   ],
   "source": [
    "#Load the uber-raw-data-jul14.csv dataset using the panda.read_csv function\n",
    "#used the r prefix to avoid the file path from executing as a string\n",
    "Uber = pd.read_csv(r\"C:\\Users\\Israel\\Downloads\\uber-raw-data-jul14.csv\\uber-raw-data-jul14.csv\")\n",
    "Uber.head(10)"
   ]
  },
  {
   "cell_type": "code",
   "execution_count": 3,
   "id": "47325250",
   "metadata": {},
   "outputs": [
    {
     "name": "stdout",
     "output_type": "stream",
     "text": [
      "<class 'pandas.core.frame.DataFrame'>\n",
      "RangeIndex: 796121 entries, 0 to 796120\n",
      "Data columns (total 4 columns):\n",
      " #   Column     Non-Null Count   Dtype  \n",
      "---  ------     --------------   -----  \n",
      " 0   Date/Time  796121 non-null  object \n",
      " 1   Lat        796121 non-null  float64\n",
      " 2   Lon        796121 non-null  float64\n",
      " 3   Base       796121 non-null  object \n",
      "dtypes: float64(2), object(2)\n",
      "memory usage: 24.3+ MB\n"
     ]
    }
   ],
   "source": [
    "#this displays additional information about the dataset, it's more like the metadata\n",
    "Uber.info()"
   ]
  },
  {
   "cell_type": "code",
   "execution_count": 4,
   "id": "717aa560",
   "metadata": {},
   "outputs": [
    {
     "name": "stdout",
     "output_type": "stream",
     "text": [
      "number of null values per column\n",
      "Date/Time    0\n",
      "Lat          0\n",
      "Lon          0\n",
      "Base         0\n",
      "dtype: int64\n"
     ]
    }
   ],
   "source": [
    "#checking for missing values using by defining a function for it\n",
    "\n",
    "def num_missing (x):\n",
    "    return sum(x.isnull())\n",
    "print('number of null values per column')\n",
    "print(Uber.apply(num_missing, axis=0))"
   ]
  },
  {
   "cell_type": "code",
   "execution_count": 5,
   "id": "355607bd",
   "metadata": {},
   "outputs": [
    {
     "name": "stdout",
     "output_type": "stream",
     "text": [
      "no. of duplicate rows (14152, 4)\n"
     ]
    }
   ],
   "source": [
    "#rows with duplicate\n",
    "DuplicatedRows = Uber[Uber.duplicated()]\n",
    "print(\"no. of duplicate rows\", DuplicatedRows.shape) #the .shape is used to give a summarization of the data"
   ]
  },
  {
   "cell_type": "code",
   "execution_count": 6,
   "id": "8aceb416",
   "metadata": {},
   "outputs": [
    {
     "data": {
      "text/plain": [
       "Date/Time    796121\n",
       "Lat          796121\n",
       "Lon          796121\n",
       "Base         796121\n",
       "dtype: int64"
      ]
     },
     "execution_count": 6,
     "metadata": {},
     "output_type": "execute_result"
    }
   ],
   "source": [
    "#to count the rows so as to compare after dropping duplicates\n",
    "Uber.count()"
   ]
  },
  {
   "cell_type": "code",
   "execution_count": 7,
   "id": "faf20816",
   "metadata": {},
   "outputs": [
    {
     "data": {
      "text/plain": [
       "Date/Time    781969\n",
       "Lat          781969\n",
       "Lon          781969\n",
       "Base         781969\n",
       "dtype: int64"
      ]
     },
     "execution_count": 7,
     "metadata": {},
     "output_type": "execute_result"
    }
   ],
   "source": [
    "#drop duplicates\n",
    "Uber = Uber.drop_duplicates()\n",
    "Uber.count()"
   ]
  },
  {
   "cell_type": "code",
   "execution_count": 8,
   "id": "f3c2a91b",
   "metadata": {},
   "outputs": [
    {
     "data": {
      "text/plain": [
       "Date/Time    0\n",
       "Lat          0\n",
       "Lon          0\n",
       "Base         0\n",
       "dtype: int64"
      ]
     },
     "execution_count": 8,
     "metadata": {},
     "output_type": "execute_result"
    }
   ],
   "source": [
    "#another method for finding null values\n",
    "Uber.isna().sum() #this shows that there's no null values"
   ]
  },
  {
   "cell_type": "code",
   "execution_count": 19,
   "id": "e156af0c",
   "metadata": {},
   "outputs": [
    {
     "ename": "AttributeError",
     "evalue": "'DatetimeProperties' object has no attribute 'Weekday_name'",
     "output_type": "error",
     "traceback": [
      "\u001b[1;31m---------------------------------------------------------------------------\u001b[0m",
      "\u001b[1;31mAttributeError\u001b[0m                            Traceback (most recent call last)",
      "Cell \u001b[1;32mIn [19], line 4\u001b[0m\n\u001b[0;32m      2\u001b[0m Uber[\u001b[38;5;124m'\u001b[39m\u001b[38;5;124mDate/Time\u001b[39m\u001b[38;5;124m'\u001b[39m] \u001b[38;5;241m=\u001b[39m pd\u001b[38;5;241m.\u001b[39mto_datetime(Uber[\u001b[38;5;124m'\u001b[39m\u001b[38;5;124mDate/Time\u001b[39m\u001b[38;5;124m'\u001b[39m], \u001b[38;5;28mformat\u001b[39m\u001b[38;5;241m=\u001b[39m\u001b[38;5;124m\"\u001b[39m\u001b[38;5;124m%\u001b[39m\u001b[38;5;124mm/\u001b[39m\u001b[38;5;132;01m%d\u001b[39;00m\u001b[38;5;124m/\u001b[39m\u001b[38;5;124m%\u001b[39m\u001b[38;5;124mY \u001b[39m\u001b[38;5;124m%\u001b[39m\u001b[38;5;124mH:\u001b[39m\u001b[38;5;124m%\u001b[39m\u001b[38;5;124mM:\u001b[39m\u001b[38;5;124m%\u001b[39m\u001b[38;5;124mS\u001b[39m\u001b[38;5;124m\"\u001b[39m)\n\u001b[0;32m      3\u001b[0m Uber[\u001b[38;5;124m'\u001b[39m\u001b[38;5;124mDayofWeekNum\u001b[39m\u001b[38;5;124m'\u001b[39m] \u001b[38;5;241m=\u001b[39m Uber[\u001b[38;5;124m'\u001b[39m\u001b[38;5;124mDate/Time\u001b[39m\u001b[38;5;124m'\u001b[39m]\u001b[38;5;241m.\u001b[39mdt\u001b[38;5;241m.\u001b[39mdayofweek\n\u001b[1;32m----> 4\u001b[0m Uber[\u001b[38;5;124m'\u001b[39m\u001b[38;5;124mDayofWeek\u001b[39m\u001b[38;5;124m'\u001b[39m] \u001b[38;5;241m=\u001b[39m Uber[\u001b[38;5;124m'\u001b[39m\u001b[38;5;124mDate/Time\u001b[39m\u001b[38;5;124m'\u001b[39m]\u001b[38;5;241m.\u001b[39mdt\u001b[38;5;241m.\u001b[39mWeekday_name\n\u001b[0;32m      5\u001b[0m Uber[\u001b[38;5;124m'\u001b[39m\u001b[38;5;124mDayNum\u001b[39m\u001b[38;5;124m'\u001b[39m] \u001b[38;5;241m=\u001b[39m Uber[\u001b[38;5;124m'\u001b[39m\u001b[38;5;124mDate/Time\u001b[39m\u001b[38;5;124m'\u001b[39m]\u001b[38;5;241m.\u001b[39mdt\u001b[38;5;241m.\u001b[39mday\n\u001b[0;32m      6\u001b[0m Uber[\u001b[38;5;124m'\u001b[39m\u001b[38;5;124mHourofDay\u001b[39m\u001b[38;5;124m'\u001b[39m] \u001b[38;5;241m=\u001b[39m Uber[\u001b[38;5;124m'\u001b[39m\u001b[38;5;124mDate/Time\u001b[39m\u001b[38;5;124m'\u001b[39m]\u001b[38;5;241m.\u001b[39mdt\u001b[38;5;241m.\u001b[39mhour\n",
      "\u001b[1;31mAttributeError\u001b[0m: 'DatetimeProperties' object has no attribute 'Weekday_name'"
     ]
    }
   ],
   "source": [
    "#seperate the date time to get more information\n",
    "Uber['Date/Time'] = pd.to_datetime(Uber['Date/Time'], format=\"%m/%d/%Y %H:%M:%S\")\n",
    "Uber['DayofWeekNum'] = Uber['Date/Time'].dt.dayofweek\n",
    "Uber['DayofWeek'] = Uber['Date/Time'].dt.weekday_name #this is giving me an error\n",
    "Uber['DayNum'] = Uber['Date/Time'].dt.day\n",
    "Uber['HourofDay'] = Uber['Date/Time'].dt.hour\n",
    "Uber.head(7)"
   ]
  },
  {
   "cell_type": "code",
   "execution_count": 20,
   "id": "dc4682cb",
   "metadata": {},
   "outputs": [
    {
     "data": {
      "text/plain": [
       "(781969, 8)"
      ]
     },
     "execution_count": 20,
     "metadata": {},
     "output_type": "execute_result"
    }
   ],
   "source": [
    "#display  the shape\n",
    "Uber.shape"
   ]
  },
  {
   "cell_type": "code",
   "execution_count": 22,
   "id": "27a62041",
   "metadata": {},
   "outputs": [
    {
     "data": {
      "text/plain": [
       "<bound method Series.unique of 0         B02512\n",
       "1         B02512\n",
       "2         B02512\n",
       "3         B02512\n",
       "4         B02512\n",
       "           ...  \n",
       "796116    B02764\n",
       "796117    B02764\n",
       "796118    B02764\n",
       "796119    B02764\n",
       "796120    B02764\n",
       "Name: Base, Length: 781969, dtype: object>"
      ]
     },
     "execution_count": 22,
     "metadata": {},
     "output_type": "execute_result"
    }
   ],
   "source": [
    "#unique base codes\n",
    "Uber['Base'].unique"
   ]
  },
  {
   "cell_type": "code",
   "execution_count": 23,
   "id": "5bc367cc",
   "metadata": {},
   "outputs": [
    {
     "data": {
      "text/plain": [
       "<seaborn.axisgrid.FacetGrid at 0x24d0089cbe0>"
      ]
     },
     "execution_count": 23,
     "metadata": {},
     "output_type": "execute_result"
    },
    {
     "data": {
      "image/png": "[encoded data removed]",
      "text/plain": [
       "<Figure size 500x500 with 1 Axes>"
      ]
     },
     "metadata": {},
     "output_type": "display_data"
    }
   ],
   "source": [
    "# total rides based on base codes\n",
    "sns.catplot(x='Base', data=Uber, kind='count')"
   ]
  },
  {
   "cell_type": "code",
   "execution_count": 26,
   "id": "c253619e",
   "metadata": {},
   "outputs": [
    {
     "data": {
      "text/plain": [
       "<AxesSubplot: title={'center': 'Hourly Journeys'}, xlabel='HourofDay'>"
      ]
     },
     "execution_count": 26,
     "metadata": {},
     "output_type": "execute_result"
    },
    {
     "data": {
      "image/png": "[encoded data removed]",
      "text/plain": [
       "<Figure size 1000x600 with 1 Axes>"
      ]
     },
     "metadata": {},
     "output_type": "display_data"
    }
   ],
   "source": [
    "Uber_hourly_data = Uber.pivot_table(index=['HourofDay'], values='Base', aggfunc='count')\n",
    "Uber_hourly_data.plot(kind='line', figsize=(10,6), title='Hourly Journeys')"
   ]
  },
  {
   "cell_type": "code",
   "execution_count": 28,
   "id": "05a09a21",
   "metadata": {},
   "outputs": [
    {
     "data": {
      "text/plain": [
       "<AxesSubplot: title={'center': 'Journeys by DayNum'}, xlabel='DayNum'>"
      ]
     },
     "execution_count": 28,
     "metadata": {},
     "output_type": "execute_result"
    },
    {
     "data": {
      "image/png": "[encoded data removed]",
      "text/plain": [
       "<Figure size 1000x500 with 1 Axes>"
      ]
     },
     "metadata": {},
     "output_type": "display_data"
    }
   ],
   "source": [
    "Uber_day_data = Uber.pivot_table(index=['DayNum'], values='Base', aggfunc='count') #creating a pivot table\n",
    "Uber_day_data.plot(kind='bar', figsize=(10,5), title='Journeys by DayNum')              #plotting the pivot table"
   ]
  },
  {
   "cell_type": "code",
   "execution_count": 29,
   "id": "a675c9ae",
   "metadata": {},
   "outputs": [
    {
     "data": {
      "text/plain": [
       "DayNum\n",
       "1     20875\n",
       "2     26040\n",
       "3     21208\n",
       "4     13921\n",
       "5     10693\n",
       "6     11253\n",
       "7     18014\n",
       "8     25320\n",
       "9     27308\n",
       "10    29974\n",
       "11    28243\n",
       "12    25488\n",
       "13    20707\n",
       "14    26923\n",
       "15    33191\n",
       "16    28100\n",
       "17    30213\n",
       "18    29354\n",
       "19    25256\n",
       "20    20820\n",
       "21    23196\n",
       "22    28456\n",
       "23    33367\n",
       "24    31455\n",
       "25    29469\n",
       "26    27189\n",
       "27    22196\n",
       "28    23539\n",
       "29    27126\n",
       "30    30134\n",
       "31    32941\n",
       "dtype: int64"
      ]
     },
     "execution_count": 29,
     "metadata": {},
     "output_type": "execute_result"
    }
   ],
   "source": [
    "def count_rows(rows):\n",
    "    return len(rows)\n",
    "by_date = Uber.groupby('DayNum').apply(count_rows)\n",
    "by_date"
   ]
  },
  {
   "cell_type": "code",
   "execution_count": 32,
   "id": "651be7c9",
   "metadata": {},
   "outputs": [
    {
     "data": {
      "text/plain": [
       "DayNum\n",
       "5     10693\n",
       "6     11253\n",
       "4     13921\n",
       "7     18014\n",
       "13    20707\n",
       "20    20820\n",
       "1     20875\n",
       "3     21208\n",
       "27    22196\n",
       "21    23196\n",
       "28    23539\n",
       "19    25256\n",
       "8     25320\n",
       "12    25488\n",
       "2     26040\n",
       "14    26923\n",
       "29    27126\n",
       "26    27189\n",
       "9     27308\n",
       "16    28100\n",
       "11    28243\n",
       "22    28456\n",
       "18    29354\n",
       "25    29469\n",
       "10    29974\n",
       "30    30134\n",
       "17    30213\n",
       "24    31455\n",
       "31    32941\n",
       "15    33191\n",
       "23    33367\n",
       "dtype: int64"
      ]
     },
     "execution_count": 32,
     "metadata": {},
     "output_type": "execute_result"
    }
   ],
   "source": [
    "#sorting day of the month by values\n",
    "by_date_sort=by_date.sort_values()\n",
    "by_date_sort"
   ]
  },
  {
   "cell_type": "code",
   "execution_count": 38,
   "id": "ca3e0cfb",
   "metadata": {},
   "outputs": [],
   "source": [
    " #plotting a histogram to show relationships between the trips and days\n",
    "hist(Uber.HourOfDay, bins=24, range=(.5, 24))"
   ]
  },
  {
   "cell_type": "code",
   "execution_count": 39,
   "id": "d9b5de81",
   "metadata": {},
   "outputs": [
    {
     "data": {
      "text/html": [
       "<div>\n",
       "<style scoped>\n",
       "    .dataframe tbody tr th:only-of-type {\n",
       "        vertical-align: middle;\n",
       "    }\n",
       "\n",
       "    .dataframe tbody tr th {\n",
       "        vertical-align: top;\n",
       "    }\n",
       "\n",
       "    .dataframe thead th {\n",
       "        text-align: right;\n",
       "    }\n",
       "</style>\n",
       "<table border=\"1\" class=\"dataframe\">\n",
       "  <thead>\n",
       "    <tr style=\"text-align: right;\">\n",
       "      <th>DayofWeekNum</th>\n",
       "      <th>0</th>\n",
       "      <th>1</th>\n",
       "      <th>2</th>\n",
       "      <th>3</th>\n",
       "      <th>4</th>\n",
       "      <th>5</th>\n",
       "      <th>6</th>\n",
       "    </tr>\n",
       "    <tr>\n",
       "      <th>HourofDay</th>\n",
       "      <th></th>\n",
       "      <th></th>\n",
       "      <th></th>\n",
       "      <th></th>\n",
       "      <th></th>\n",
       "      <th></th>\n",
       "      <th></th>\n",
       "    </tr>\n",
       "  </thead>\n",
       "  <tbody>\n",
       "    <tr>\n",
       "      <th>0</th>\n",
       "      <td>1238</td>\n",
       "      <td>1476</td>\n",
       "      <td>1740</td>\n",
       "      <td>2104</td>\n",
       "      <td>2407</td>\n",
       "      <td>4368</td>\n",
       "      <td>4285</td>\n",
       "    </tr>\n",
       "    <tr>\n",
       "      <th>1</th>\n",
       "      <td>600</td>\n",
       "      <td>763</td>\n",
       "      <td>938</td>\n",
       "      <td>1136</td>\n",
       "      <td>1510</td>\n",
       "      <td>3092</td>\n",
       "      <td>3268</td>\n",
       "    </tr>\n",
       "    <tr>\n",
       "      <th>2</th>\n",
       "      <td>429</td>\n",
       "      <td>540</td>\n",
       "      <td>757</td>\n",
       "      <td>833</td>\n",
       "      <td>1029</td>\n",
       "      <td>2279</td>\n",
       "      <td>2512</td>\n",
       "    </tr>\n",
       "    <tr>\n",
       "      <th>3</th>\n",
       "      <td>998</td>\n",
       "      <td>915</td>\n",
       "      <td>1094</td>\n",
       "      <td>1257</td>\n",
       "      <td>1202</td>\n",
       "      <td>1673</td>\n",
       "      <td>1870</td>\n",
       "    </tr>\n",
       "    <tr>\n",
       "      <th>4</th>\n",
       "      <td>1583</td>\n",
       "      <td>1450</td>\n",
       "      <td>1603</td>\n",
       "      <td>1852</td>\n",
       "      <td>1333</td>\n",
       "      <td>1072</td>\n",
       "      <td>969</td>\n",
       "    </tr>\n",
       "    <tr>\n",
       "      <th>5</th>\n",
       "      <td>2408</td>\n",
       "      <td>2672</td>\n",
       "      <td>2754</td>\n",
       "      <td>2876</td>\n",
       "      <td>1942</td>\n",
       "      <td>1078</td>\n",
       "      <td>911</td>\n",
       "    </tr>\n",
       "    <tr>\n",
       "      <th>6</th>\n",
       "      <td>3574</td>\n",
       "      <td>4715</td>\n",
       "      <td>4925</td>\n",
       "      <td>4706</td>\n",
       "      <td>2903</td>\n",
       "      <td>1198</td>\n",
       "      <td>1018</td>\n",
       "    </tr>\n",
       "    <tr>\n",
       "      <th>7</th>\n",
       "      <td>4994</td>\n",
       "      <td>6628</td>\n",
       "      <td>6998</td>\n",
       "      <td>6596</td>\n",
       "      <td>3981</td>\n",
       "      <td>1568</td>\n",
       "      <td>1244</td>\n",
       "    </tr>\n",
       "    <tr>\n",
       "      <th>8</th>\n",
       "      <td>4713</td>\n",
       "      <td>6532</td>\n",
       "      <td>6989</td>\n",
       "      <td>6572</td>\n",
       "      <td>4083</td>\n",
       "      <td>2056</td>\n",
       "      <td>1825</td>\n",
       "    </tr>\n",
       "    <tr>\n",
       "      <th>9</th>\n",
       "      <td>3647</td>\n",
       "      <td>4971</td>\n",
       "      <td>5320</td>\n",
       "      <td>5299</td>\n",
       "      <td>3583</td>\n",
       "      <td>2606</td>\n",
       "      <td>2587</td>\n",
       "    </tr>\n",
       "    <tr>\n",
       "      <th>10</th>\n",
       "      <td>3375</td>\n",
       "      <td>4804</td>\n",
       "      <td>5089</td>\n",
       "      <td>5003</td>\n",
       "      <td>3438</td>\n",
       "      <td>3227</td>\n",
       "      <td>3152</td>\n",
       "    </tr>\n",
       "    <tr>\n",
       "      <th>11</th>\n",
       "      <td>3428</td>\n",
       "      <td>4847</td>\n",
       "      <td>5152</td>\n",
       "      <td>5282</td>\n",
       "      <td>3621</td>\n",
       "      <td>3472</td>\n",
       "      <td>3764</td>\n",
       "    </tr>\n",
       "    <tr>\n",
       "      <th>12</th>\n",
       "      <td>3459</td>\n",
       "      <td>5068</td>\n",
       "      <td>5323</td>\n",
       "      <td>5432</td>\n",
       "      <td>3733</td>\n",
       "      <td>3634</td>\n",
       "      <td>3738</td>\n",
       "    </tr>\n",
       "    <tr>\n",
       "      <th>13</th>\n",
       "      <td>3864</td>\n",
       "      <td>6491</td>\n",
       "      <td>5994</td>\n",
       "      <td>6190</td>\n",
       "      <td>4554</td>\n",
       "      <td>3769</td>\n",
       "      <td>4422</td>\n",
       "    </tr>\n",
       "    <tr>\n",
       "      <th>14</th>\n",
       "      <td>4528</td>\n",
       "      <td>7432</td>\n",
       "      <td>7110</td>\n",
       "      <td>7326</td>\n",
       "      <td>5376</td>\n",
       "      <td>4412</td>\n",
       "      <td>4494</td>\n",
       "    </tr>\n",
       "    <tr>\n",
       "      <th>15</th>\n",
       "      <td>4979</td>\n",
       "      <td>7835</td>\n",
       "      <td>8583</td>\n",
       "      <td>8505</td>\n",
       "      <td>5951</td>\n",
       "      <td>4995</td>\n",
       "      <td>4492</td>\n",
       "    </tr>\n",
       "    <tr>\n",
       "      <th>16</th>\n",
       "      <td>6198</td>\n",
       "      <td>9079</td>\n",
       "      <td>10249</td>\n",
       "      <td>9526</td>\n",
       "      <td>6347</td>\n",
       "      <td>5395</td>\n",
       "      <td>4779</td>\n",
       "    </tr>\n",
       "    <tr>\n",
       "      <th>17</th>\n",
       "      <td>7224</td>\n",
       "      <td>11512</td>\n",
       "      <td>11450</td>\n",
       "      <td>10278</td>\n",
       "      <td>6555</td>\n",
       "      <td>5386</td>\n",
       "      <td>4846</td>\n",
       "    </tr>\n",
       "    <tr>\n",
       "      <th>18</th>\n",
       "      <td>6433</td>\n",
       "      <td>10777</td>\n",
       "      <td>11509</td>\n",
       "      <td>10982</td>\n",
       "      <td>6569</td>\n",
       "      <td>5726</td>\n",
       "      <td>4183</td>\n",
       "    </tr>\n",
       "    <tr>\n",
       "      <th>19</th>\n",
       "      <td>6242</td>\n",
       "      <td>9776</td>\n",
       "      <td>10339</td>\n",
       "      <td>10622</td>\n",
       "      <td>5810</td>\n",
       "      <td>4816</td>\n",
       "      <td>3619</td>\n",
       "    </tr>\n",
       "    <tr>\n",
       "      <th>20</th>\n",
       "      <td>6207</td>\n",
       "      <td>9590</td>\n",
       "      <td>10283</td>\n",
       "      <td>9976</td>\n",
       "      <td>5583</td>\n",
       "      <td>5283</td>\n",
       "      <td>3936</td>\n",
       "    </tr>\n",
       "    <tr>\n",
       "      <th>21</th>\n",
       "      <td>5557</td>\n",
       "      <td>8142</td>\n",
       "      <td>9562</td>\n",
       "      <td>9352</td>\n",
       "      <td>6534</td>\n",
       "      <td>5790</td>\n",
       "      <td>3668</td>\n",
       "    </tr>\n",
       "    <tr>\n",
       "      <th>22</th>\n",
       "      <td>3774</td>\n",
       "      <td>5695</td>\n",
       "      <td>7137</td>\n",
       "      <td>8439</td>\n",
       "      <td>6978</td>\n",
       "      <td>6227</td>\n",
       "      <td>3229</td>\n",
       "    </tr>\n",
       "    <tr>\n",
       "      <th>23</th>\n",
       "      <td>2220</td>\n",
       "      <td>3258</td>\n",
       "      <td>4051</td>\n",
       "      <td>5647</td>\n",
       "      <td>5965</td>\n",
       "      <td>5504</td>\n",
       "      <td>2165</td>\n",
       "    </tr>\n",
       "  </tbody>\n",
       "</table>\n",
       "</div>"
      ],
      "text/plain": [
       "DayofWeekNum     0      1      2      3     4     5     6\n",
       "HourofDay                                                \n",
       "0             1238   1476   1740   2104  2407  4368  4285\n",
       "1              600    763    938   1136  1510  3092  3268\n",
       "2              429    540    757    833  1029  2279  2512\n",
       "3              998    915   1094   1257  1202  1673  1870\n",
       "4             1583   1450   1603   1852  1333  1072   969\n",
       "5             2408   2672   2754   2876  1942  1078   911\n",
       "6             3574   4715   4925   4706  2903  1198  1018\n",
       "7             4994   6628   6998   6596  3981  1568  1244\n",
       "8             4713   6532   6989   6572  4083  2056  1825\n",
       "9             3647   4971   5320   5299  3583  2606  2587\n",
       "10            3375   4804   5089   5003  3438  3227  3152\n",
       "11            3428   4847   5152   5282  3621  3472  3764\n",
       "12            3459   5068   5323   5432  3733  3634  3738\n",
       "13            3864   6491   5994   6190  4554  3769  4422\n",
       "14            4528   7432   7110   7326  5376  4412  4494\n",
       "15            4979   7835   8583   8505  5951  4995  4492\n",
       "16            6198   9079  10249   9526  6347  5395  4779\n",
       "17            7224  11512  11450  10278  6555  5386  4846\n",
       "18            6433  10777  11509  10982  6569  5726  4183\n",
       "19            6242   9776  10339  10622  5810  4816  3619\n",
       "20            6207   9590  10283   9976  5583  5283  3936\n",
       "21            5557   8142   9562   9352  6534  5790  3668\n",
       "22            3774   5695   7137   8439  6978  6227  3229\n",
       "23            2220   3258   4051   5647  5965  5504  2165"
      ]
     },
     "execution_count": 39,
     "metadata": {},
     "output_type": "execute_result"
    }
   ],
   "source": [
    "#it shows the relationship between the day, hour aand trips\n",
    "count_rows(Uber)\n",
    "by_hour_weekday = Uber.groupby('HourofDay DayofWeekNum'.split()).apply(count_rows).unstack()\n",
    "by_hour_weekday\n"
   ]
  },
  {
   "cell_type": "code",
   "execution_count": 40,
   "id": "8f20bd9d",
   "metadata": {},
   "outputs": [
    {
     "data": {
      "text/plain": [
       "<AxesSubplot: xlabel='DayofWeekNum', ylabel='HourofDay'>"
      ]
     },
     "execution_count": 40,
     "metadata": {},
     "output_type": "execute_result"
    },
    {
     "data": {
      "image/png": "[encoded data removed]",
      "text/plain": [
       "<Figure size 1500x1000 with 2 Axes>"
      ]
     },
     "metadata": {},
     "output_type": "display_data"
    }
   ],
   "source": [
    "    #heat map to analyze bookings interms of hour of the day\n",
    "    plt.figure(figsize=(15,10))\n",
    "    sns.heatmap(by_hour_weekday)\n",
    "    #the dark regions saw the least number of trips, then the bright regions saw the highest number of trips\n",
    "    #we can conclusively say that 5pm on wednesday saw the highest number of trips."
   ]
  },
  {
   "cell_type": "code",
   "execution_count": null,
   "id": "ea197cd3",
   "metadata": {},
   "outputs": [],
   "source": []
  }
 ],
 "metadata": {
  "kernelspec": {
   "display_name": "Python 3 (ipykernel)",
   "language": "python",
   "name": "python3"
  },
  "language_info": {
   "codemirror_mode": {
    "name": "ipython",
    "version": 3
   },
   "file_extension": ".py",
   "mimetype": "text/x-python",
   "name": "python",
   "nbconvert_exporter": "python",
   "pygments_lexer": "ipython3",
   "version": "3.10.7"
  }
 },
 "nbformat": 4,
 "nbformat_minor": 5
}
